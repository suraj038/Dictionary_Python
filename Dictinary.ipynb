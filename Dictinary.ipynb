{
 "cells": [
  {
   "cell_type": "code",
   "execution_count": 2,
   "metadata": {},
   "outputs": [
    {
     "name": "stdout",
     "output_type": "stream",
     "text": [
      "Enter the word: close\n",
      "Meaning - \n",
      "->  At a little distance.\n",
      "->  To make something end.\n",
      "->  To move (a door, a window, etc.) so that it closes its opening.\n",
      "->  Not far distant in time or space or degree or circumstances.\n",
      "->  To become closed.\n",
      "->  To cease to operate or cause to cease operating (e.g. a business or a shop).\n",
      "->  To complete a business deal, negotiation, or an agreement.\n",
      "->  To be priced or listed when trading stops.\n",
      "->  To cause a window or an application to disappear on a computer desktop.\n"
     ]
    }
   ],
   "source": [
    "import json\n",
    "from difflib import get_close_matches\n",
    "\n",
    "dataset = json.load(open(\"data1.json\"))\n",
    "\n",
    "word = input(\"Enter the word: \")\n",
    "\n",
    "def translate(word):\n",
    "    word = word.lower()             # .lower() convert string to lowercase.\n",
    "    if word in dataset:\n",
    "        print(\"Meaning - \")\n",
    "        meanings = dataset[word]\n",
    "        for meaning in meanings:\n",
    "            print(\"-> \",meaning)\n",
    "    else:\n",
    "        replacement = get_close_matches(word,dataset.keys(),n=1,cutoff=0.75)\n",
    "#        \"get_close_matches\" is a function of difflib library that provides a close match available to a string with a defined ]\n",
    "#    cutoff value(match-propability)\n",
    "    \n",
    "        if not replacement:\n",
    "            print(\"Sorry! The word doesn't exist in dictonary.\")\n",
    "        else:\n",
    "            response = input(\"Did you mean %s? If yes enter Y else N\\n\"% replacement[0]) \n",
    "            response.lower()\n",
    "            if response is \"y\":\n",
    "                translate(replacement[0])\n",
    "            else:\n",
    "                print(\"Sorry! The word doesn't exist in dictonary.\")\n",
    "                    \n",
    "translate(word)"
   ]
  }
 ],
 "metadata": {
  "kernelspec": {
   "display_name": "Python 3",
   "language": "python",
   "name": "python3"
  },
  "language_info": {
   "codemirror_mode": {
    "name": "ipython",
    "version": 3
   },
   "file_extension": ".py",
   "mimetype": "text/x-python",
   "name": "python",
   "nbconvert_exporter": "python",
   "pygments_lexer": "ipython3",
   "version": "3.6.7"
  }
 },
 "nbformat": 4,
 "nbformat_minor": 2
}
