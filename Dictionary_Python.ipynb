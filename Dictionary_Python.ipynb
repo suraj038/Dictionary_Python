{
 "cells": [
  {
   "cell_type": "code",
   "execution_count": 1,
   "metadata": {},
   "outputs": [],
   "source": [
    "import json #json library is to import json file \n",
    "import difflib # this library has a function to get_close_matches to found some close data"
   ]
  },
  {
   "cell_type": "code",
   "execution_count": 5,
   "metadata": {},
   "outputs": [
    {
     "name": "stdout",
     "output_type": "stream",
     "text": [
      "enter a word : machine\n",
      "['A device able to perform a particular, more or less complex, job.']\n"
     ]
    }
   ],
   "source": [
    "with open(\"data.json\",\"r\") as read_file:\n",
    "    data=json.load(read_file)\n",
    "word=input(\"enter a word : \")\n",
    "word=word.lower()\n",
    "\n",
    "try:\n",
    "    print(data[word])\n",
    "except:\n",
    "    print(\"oops word not found\")\n",
    "    print(\"DId you mean :-\",difflib.get_close_matches(word,data))"
   ]
  }
 ],
 "metadata": {
  "kernelspec": {
   "display_name": "Python 3",
   "language": "python",
   "name": "python3"
  },
  "language_info": {
   "codemirror_mode": {
    "name": "ipython",
    "version": 3
   },
   "file_extension": ".py",
   "mimetype": "text/x-python",
   "name": "python",
   "nbconvert_exporter": "python",
   "pygments_lexer": "ipython3",
   "version": "3.6.7"
  }
 },
 "nbformat": 4,
 "nbformat_minor": 2
}
